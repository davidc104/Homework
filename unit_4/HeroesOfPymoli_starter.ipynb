{
 "cells": [
  {
   "cell_type": "markdown",
   "metadata": {},
   "source": [
    "### Heroes Of Pymoli Data Analysis\n",
    "* Of the 1163 active players, the vast majority are male (84%). There also exists, a smaller, but notable proportion of female players (14%).\n",
    "\n",
    "* Our peak age demographic falls between 20-24 (44.8%) with secondary groups falling between 15-19 (18.60%) and 25-29 (13.4%).  \n",
    "-----"
   ]
  },
  {
   "cell_type": "markdown",
   "metadata": {},
   "source": [
    "### Note\n",
    "* Instructions have been included for each segment. You do not have to follow them exactly, but they are included to help you think through the steps."
   ]
  },
  {
   "cell_type": "code",
   "execution_count": 59,
   "metadata": {},
   "outputs": [],
   "source": [
    "# Dependencies and Setup\n",
    "import pandas as pd\n",
    "import numpy as np\n",
    "\n",
    "# File to Load (Remember to Change These)\n",
    "csvpath = \"Resources/purchase_data.csv\"\n",
    "#print(csvpath)\n",
    "\n",
    "# Read Purchasing File and store into Pandas data frame\n",
    "purchase_data = pd.read_csv(csvpath)\n",
    "#purchase_data.head()"
   ]
  },
  {
   "cell_type": "markdown",
   "metadata": {},
   "source": [
    "## Player Count"
   ]
  },
  {
   "cell_type": "markdown",
   "metadata": {},
   "source": [
    "* Display the total number of players\n"
   ]
  },
  {
   "cell_type": "code",
   "execution_count": 60,
   "metadata": {},
   "outputs": [
    {
     "name": "stdout",
     "output_type": "stream",
     "text": [
      "Total players\n",
      "--------------\n"
     ]
    },
    {
     "data": {
      "text/plain": [
       "576"
      ]
     },
     "execution_count": 60,
     "metadata": {},
     "output_type": "execute_result"
    }
   ],
   "source": [
    "# Use unique of list to remove the dupicate screen names \"SN\" and use len to get the number of total players.\n",
    "unique_cnts = len(purchase_data[\"SN\"].unique())\n",
    "\n",
    "print(\"Total players\")\n",
    "print(\"--------------\")\n",
    "unique_cnts"
   ]
  },
  {
   "cell_type": "markdown",
   "metadata": {},
   "source": [
    "## Purchasing Analysis (Total)"
   ]
  },
  {
   "cell_type": "markdown",
   "metadata": {},
   "source": [
    "* Run basic calculations to obtain number of unique items, average price, etc.\n",
    "\n",
    "\n",
    "* Create a summary data frame to hold the results\n",
    "\n",
    "\n",
    "* Optional: give the displayed data cleaner formatting\n",
    "\n",
    "\n",
    "* Display the summary data frame\n"
   ]
  },
  {
   "cell_type": "code",
   "execution_count": 61,
   "metadata": {
    "scrolled": true
   },
   "outputs": [
    {
     "data": {
      "text/html": [
       "<style  type=\"text/css\" >\n",
       "</style><table id=\"T_aa33d162_bca8_11e9_9f18_b0359ff5a1c1\" ><thead>    <tr>        <th class=\"blank level0\" ></th>        <th class=\"col_heading level0 col0\" >Number of Unique Items</th>        <th class=\"col_heading level0 col1\" >Average Price</th>        <th class=\"col_heading level0 col2\" >Number of Purchases</th>        <th class=\"col_heading level0 col3\" >Total Revenue</th>    </tr></thead><tbody>\n",
       "                <tr>\n",
       "                        <th id=\"T_aa33d162_bca8_11e9_9f18_b0359ff5a1c1level0_row0\" class=\"row_heading level0 row0\" >0</th>\n",
       "                        <td id=\"T_aa33d162_bca8_11e9_9f18_b0359ff5a1c1row0_col0\" class=\"data row0 col0\" >183</td>\n",
       "                        <td id=\"T_aa33d162_bca8_11e9_9f18_b0359ff5a1c1row0_col1\" class=\"data row0 col1\" >$3.05</td>\n",
       "                        <td id=\"T_aa33d162_bca8_11e9_9f18_b0359ff5a1c1row0_col2\" class=\"data row0 col2\" >780</td>\n",
       "                        <td id=\"T_aa33d162_bca8_11e9_9f18_b0359ff5a1c1row0_col3\" class=\"data row0 col3\" >$2,379.77</td>\n",
       "            </tr>\n",
       "    </tbody></table>"
      ],
      "text/plain": [
       "<pandas.io.formats.style.Styler at 0x2a05021ff60>"
      ]
     },
     "execution_count": 61,
     "metadata": {},
     "output_type": "execute_result"
    }
   ],
   "source": [
    "# Use set to remove the dupicate items \"Item ID\" and use len to get the total of unique items.\n",
    "number_of_unique_items = len(set(purchase_data[\"Item ID\"]))\n",
    "\n",
    "# Use mean to calculate the average price of purchases\n",
    "average_price = (purchase_data[\"Price\"]).mean()\n",
    "\n",
    "# User count to get the times of purchases\n",
    "number_of_purchases = (purchase_data[\"Purchase ID\"]).count()\n",
    "\n",
    "# Use sum to get the total revenue of purchases\n",
    "total_revenue = (purchase_data[\"Price\"]).sum()\n",
    "\n",
    "# Create a summary data frame to hold the results\n",
    "summary_df = pd.DataFrame({\"Number of Unique Items\":[number_of_unique_items], \\\n",
    "                           \"Average Price\":[average_price], \\\n",
    "                           \"Number of Purchases\": [number_of_purchases], \\\n",
    "                           \"Total Revenue\": [total_revenue]})\n",
    "\n",
    "# Format to rount to 2 decimals\n",
    "summary_df.style.format({'Average Price':\"${:,.2f}\",\n",
    "                         'Total Revenue': '${:,.2f}'})\n",
    "\n",
    "#summary_df"
   ]
  },
  {
   "cell_type": "markdown",
   "metadata": {},
   "source": [
    "## Gender Demographics"
   ]
  },
  {
   "cell_type": "markdown",
   "metadata": {},
   "source": [
    "* Percentage and Count of Male Players\n",
    "\n",
    "\n",
    "* Percentage and Count of Female Players\n",
    "\n",
    "\n",
    "* Percentage and Count of Other / Non-Disclosed\n",
    "\n",
    "\n"
   ]
  },
  {
   "cell_type": "code",
   "execution_count": 62,
   "metadata": {},
   "outputs": [
    {
     "data": {
      "text/html": [
       "<style  type=\"text/css\" >\n",
       "</style><table id=\"T_be8a381c_bca8_11e9_8cb7_b0359ff5a1c1\" ><thead>    <tr>        <th class=\"blank level0\" ></th>        <th class=\"col_heading level0 col0\" >Total Count</th>        <th class=\"col_heading level0 col1\" >Percentage of Players</th>    </tr>    <tr>        <th class=\"index_name level0\" >Gender</th>        <th class=\"blank\" ></th>        <th class=\"blank\" ></th>    </tr></thead><tbody>\n",
       "                <tr>\n",
       "                        <th id=\"T_be8a381c_bca8_11e9_8cb7_b0359ff5a1c1level0_row0\" class=\"row_heading level0 row0\" >Male</th>\n",
       "                        <td id=\"T_be8a381c_bca8_11e9_8cb7_b0359ff5a1c1row0_col0\" class=\"data row0 col0\" >484</td>\n",
       "                        <td id=\"T_be8a381c_bca8_11e9_8cb7_b0359ff5a1c1row0_col1\" class=\"data row0 col1\" >84.03</td>\n",
       "            </tr>\n",
       "            <tr>\n",
       "                        <th id=\"T_be8a381c_bca8_11e9_8cb7_b0359ff5a1c1level0_row1\" class=\"row_heading level0 row1\" >Female</th>\n",
       "                        <td id=\"T_be8a381c_bca8_11e9_8cb7_b0359ff5a1c1row1_col0\" class=\"data row1 col0\" >81</td>\n",
       "                        <td id=\"T_be8a381c_bca8_11e9_8cb7_b0359ff5a1c1row1_col1\" class=\"data row1 col1\" >14.06</td>\n",
       "            </tr>\n",
       "            <tr>\n",
       "                        <th id=\"T_be8a381c_bca8_11e9_8cb7_b0359ff5a1c1level0_row2\" class=\"row_heading level0 row2\" >Other / Non-Disclosed</th>\n",
       "                        <td id=\"T_be8a381c_bca8_11e9_8cb7_b0359ff5a1c1row2_col0\" class=\"data row2 col0\" >11</td>\n",
       "                        <td id=\"T_be8a381c_bca8_11e9_8cb7_b0359ff5a1c1row2_col1\" class=\"data row2 col1\" >1.91</td>\n",
       "            </tr>\n",
       "    </tbody></table>"
      ],
      "text/plain": [
       "<pandas.io.formats.style.Styler at 0x2a0504f2a20>"
      ]
     },
     "execution_count": 62,
     "metadata": {},
     "output_type": "execute_result"
    }
   ],
   "source": [
    "# Use groupby of \"Gender\" to separate femal players from male players\n",
    "gender_stats = purchase_data.groupby(\"Gender\")\n",
    "\n",
    "# Get the total of each gender after removing the duplicate screen names \"SN\"\n",
    "total_count_gender = gender_stats.nunique()[\"SN\"]\n",
    "\n",
    "# Calculate percentage of each gender out of total players \n",
    "percentage_of_players = (total_count_gender / total_players) * 100\n",
    " \n",
    "# Create data frame with obtained values\n",
    "gender_demographics = pd.DataFrame({\"Total Count\": total_count_gender, \"Percentage of Players\": percentage_of_players})\n",
    "\n",
    "# Present the results in descending order of total count, and rount to 2 digits after the decimal point\n",
    "gender_demographics.sort_values([\"Total Count\"], ascending = False).style.format({\"Percentage of Players\":\"{:.2f}\"})"
   ]
  },
  {
   "cell_type": "markdown",
   "metadata": {},
   "source": [
    "\n",
    "## Purchasing Analysis (Gender)"
   ]
  },
  {
   "cell_type": "markdown",
   "metadata": {},
   "source": [
    "* Run basic calculations to obtain purchase count, avg. purchase price, avg. purchase total per person etc. by gender\n",
    "\n",
    "\n",
    "\n",
    "\n",
    "* Create a summary data frame to hold the results\n",
    "\n",
    "\n",
    "* Optional: give the displayed data cleaner formatting\n",
    "\n",
    "\n",
    "* Display the summary data frame"
   ]
  },
  {
   "cell_type": "code",
   "execution_count": 63,
   "metadata": {},
   "outputs": [
    {
     "data": {
      "text/html": [
       "<style  type=\"text/css\" >\n",
       "</style><table id=\"T_c7f8ef5c_bca8_11e9_bce9_b0359ff5a1c1\" ><thead>    <tr>        <th class=\"blank level0\" ></th>        <th class=\"col_heading level0 col0\" >Purchase Count</th>        <th class=\"col_heading level0 col1\" >Average Purchase Price</th>        <th class=\"col_heading level0 col2\" >Total Purchase Value</th>        <th class=\"col_heading level0 col3\" >Avg Purchase Total per Person</th>    </tr>    <tr>        <th class=\"index_name level0\" >Gender</th>        <th class=\"blank\" ></th>        <th class=\"blank\" ></th>        <th class=\"blank\" ></th>        <th class=\"blank\" ></th>    </tr></thead><tbody>\n",
       "                <tr>\n",
       "                        <th id=\"T_c7f8ef5c_bca8_11e9_bce9_b0359ff5a1c1level0_row0\" class=\"row_heading level0 row0\" >Female</th>\n",
       "                        <td id=\"T_c7f8ef5c_bca8_11e9_bce9_b0359ff5a1c1row0_col0\" class=\"data row0 col0\" >113</td>\n",
       "                        <td id=\"T_c7f8ef5c_bca8_11e9_bce9_b0359ff5a1c1row0_col1\" class=\"data row0 col1\" >$3.20</td>\n",
       "                        <td id=\"T_c7f8ef5c_bca8_11e9_bce9_b0359ff5a1c1row0_col2\" class=\"data row0 col2\" >$361.94</td>\n",
       "                        <td id=\"T_c7f8ef5c_bca8_11e9_bce9_b0359ff5a1c1row0_col3\" class=\"data row0 col3\" >$4.47</td>\n",
       "            </tr>\n",
       "            <tr>\n",
       "                        <th id=\"T_c7f8ef5c_bca8_11e9_bce9_b0359ff5a1c1level0_row1\" class=\"row_heading level0 row1\" >Male</th>\n",
       "                        <td id=\"T_c7f8ef5c_bca8_11e9_bce9_b0359ff5a1c1row1_col0\" class=\"data row1 col0\" >652</td>\n",
       "                        <td id=\"T_c7f8ef5c_bca8_11e9_bce9_b0359ff5a1c1row1_col1\" class=\"data row1 col1\" >$3.02</td>\n",
       "                        <td id=\"T_c7f8ef5c_bca8_11e9_bce9_b0359ff5a1c1row1_col2\" class=\"data row1 col2\" >$1,967.64</td>\n",
       "                        <td id=\"T_c7f8ef5c_bca8_11e9_bce9_b0359ff5a1c1row1_col3\" class=\"data row1 col3\" >$4.07</td>\n",
       "            </tr>\n",
       "            <tr>\n",
       "                        <th id=\"T_c7f8ef5c_bca8_11e9_bce9_b0359ff5a1c1level0_row2\" class=\"row_heading level0 row2\" >Other / Non-Disclosed</th>\n",
       "                        <td id=\"T_c7f8ef5c_bca8_11e9_bce9_b0359ff5a1c1row2_col0\" class=\"data row2 col0\" >15</td>\n",
       "                        <td id=\"T_c7f8ef5c_bca8_11e9_bce9_b0359ff5a1c1row2_col1\" class=\"data row2 col1\" >$3.35</td>\n",
       "                        <td id=\"T_c7f8ef5c_bca8_11e9_bce9_b0359ff5a1c1row2_col2\" class=\"data row2 col2\" >$50.19</td>\n",
       "                        <td id=\"T_c7f8ef5c_bca8_11e9_bce9_b0359ff5a1c1row2_col3\" class=\"data row2 col3\" >$4.56</td>\n",
       "            </tr>\n",
       "    </tbody></table>"
      ],
      "text/plain": [
       "<pandas.io.formats.style.Styler at 0x2a0502df978>"
      ]
     },
     "execution_count": 63,
     "metadata": {},
     "output_type": "execute_result"
    }
   ],
   "source": [
    "# Count the number of purchases by each gender \n",
    "purchase_count_gender = gender_stats[\"Purchase ID\"].count()\n",
    "\n",
    "# Calculte average purchase price by each gender\n",
    "avg_purchase_price_gender = gender_stats[\"Price\"].mean()\n",
    "\n",
    "# Calculate the total amount of purchases by each gender \n",
    "purchase_total_gender = gender_stats[\"Price\"].sum()\n",
    "\n",
    "# Calculate Average purchase by each individual gender\n",
    "avg_purchase_per_person_gender = purchase_total_gender/total_count_gender\n",
    "\n",
    "# Create a summary data frame to hold the results \n",
    "gender_demographics = pd.DataFrame({\"Purchase Count\": purchase_count_gender, \n",
    "                                    \"Average Purchase Price\": avg_purchase_price_gender,\n",
    "                                    \"Total Purchase Value\": purchase_total_gender,\n",
    "                                    \"Avg Purchase Total per Person\": avg_purchase_per_person_gender})\n",
    "\n",
    "# Present the results and rount to 2 digits after the decimal point\n",
    "gender_demographics.style.format({\"Average Purchase Price\":\"${:,.2f}\",\n",
    "                                  \"Total Purchase Value\":\"${:,.2f}\",\n",
    "                                  \"Avg Purchase Total per Person\":\"${:,.2f}\"})"
   ]
  },
  {
   "cell_type": "markdown",
   "metadata": {},
   "source": [
    "## Age Demographics"
   ]
  },
  {
   "cell_type": "markdown",
   "metadata": {},
   "source": [
    "* Establish bins for ages\n",
    "\n",
    "\n",
    "* Categorize the existing players using the age bins. Hint: use pd.cut()\n",
    "\n",
    "\n",
    "* Calculate the numbers and percentages by age group\n",
    "\n",
    "\n",
    "* Create a summary data frame to hold the results\n",
    "\n",
    "\n",
    "* Optional: round the percentage column to two decimal points\n",
    "\n",
    "\n",
    "* Display Age Demographics Table\n"
   ]
  },
  {
   "cell_type": "code",
   "execution_count": 64,
   "metadata": {},
   "outputs": [
    {
     "data": {
      "text/html": [
       "<style  type=\"text/css\" >\n",
       "</style><table id=\"T_cedf179e_bca8_11e9_83f7_b0359ff5a1c1\" ><thead>    <tr>        <th class=\"blank level0\" ></th>        <th class=\"col_heading level0 col0\" >Total Count</th>        <th class=\"col_heading level0 col1\" >Percentage of Players</th>    </tr>    <tr>        <th class=\"index_name level0\" >Age Category</th>        <th class=\"blank\" ></th>        <th class=\"blank\" ></th>    </tr></thead><tbody>\n",
       "                <tr>\n",
       "                        <th id=\"T_cedf179e_bca8_11e9_83f7_b0359ff5a1c1level0_row0\" class=\"row_heading level0 row0\" ><10</th>\n",
       "                        <td id=\"T_cedf179e_bca8_11e9_83f7_b0359ff5a1c1row0_col0\" class=\"data row0 col0\" >17</td>\n",
       "                        <td id=\"T_cedf179e_bca8_11e9_83f7_b0359ff5a1c1row0_col1\" class=\"data row0 col1\" >2.95%</td>\n",
       "            </tr>\n",
       "            <tr>\n",
       "                        <th id=\"T_cedf179e_bca8_11e9_83f7_b0359ff5a1c1level0_row1\" class=\"row_heading level0 row1\" >10-14</th>\n",
       "                        <td id=\"T_cedf179e_bca8_11e9_83f7_b0359ff5a1c1row1_col0\" class=\"data row1 col0\" >22</td>\n",
       "                        <td id=\"T_cedf179e_bca8_11e9_83f7_b0359ff5a1c1row1_col1\" class=\"data row1 col1\" >3.82%</td>\n",
       "            </tr>\n",
       "            <tr>\n",
       "                        <th id=\"T_cedf179e_bca8_11e9_83f7_b0359ff5a1c1level0_row2\" class=\"row_heading level0 row2\" >15-19</th>\n",
       "                        <td id=\"T_cedf179e_bca8_11e9_83f7_b0359ff5a1c1row2_col0\" class=\"data row2 col0\" >107</td>\n",
       "                        <td id=\"T_cedf179e_bca8_11e9_83f7_b0359ff5a1c1row2_col1\" class=\"data row2 col1\" >18.58%</td>\n",
       "            </tr>\n",
       "            <tr>\n",
       "                        <th id=\"T_cedf179e_bca8_11e9_83f7_b0359ff5a1c1level0_row3\" class=\"row_heading level0 row3\" >20-24</th>\n",
       "                        <td id=\"T_cedf179e_bca8_11e9_83f7_b0359ff5a1c1row3_col0\" class=\"data row3 col0\" >258</td>\n",
       "                        <td id=\"T_cedf179e_bca8_11e9_83f7_b0359ff5a1c1row3_col1\" class=\"data row3 col1\" >44.79%</td>\n",
       "            </tr>\n",
       "            <tr>\n",
       "                        <th id=\"T_cedf179e_bca8_11e9_83f7_b0359ff5a1c1level0_row4\" class=\"row_heading level0 row4\" >25-29</th>\n",
       "                        <td id=\"T_cedf179e_bca8_11e9_83f7_b0359ff5a1c1row4_col0\" class=\"data row4 col0\" >77</td>\n",
       "                        <td id=\"T_cedf179e_bca8_11e9_83f7_b0359ff5a1c1row4_col1\" class=\"data row4 col1\" >13.37%</td>\n",
       "            </tr>\n",
       "            <tr>\n",
       "                        <th id=\"T_cedf179e_bca8_11e9_83f7_b0359ff5a1c1level0_row5\" class=\"row_heading level0 row5\" >30-34</th>\n",
       "                        <td id=\"T_cedf179e_bca8_11e9_83f7_b0359ff5a1c1row5_col0\" class=\"data row5 col0\" >52</td>\n",
       "                        <td id=\"T_cedf179e_bca8_11e9_83f7_b0359ff5a1c1row5_col1\" class=\"data row5 col1\" >9.03%</td>\n",
       "            </tr>\n",
       "            <tr>\n",
       "                        <th id=\"T_cedf179e_bca8_11e9_83f7_b0359ff5a1c1level0_row6\" class=\"row_heading level0 row6\" >35-39</th>\n",
       "                        <td id=\"T_cedf179e_bca8_11e9_83f7_b0359ff5a1c1row6_col0\" class=\"data row6 col0\" >31</td>\n",
       "                        <td id=\"T_cedf179e_bca8_11e9_83f7_b0359ff5a1c1row6_col1\" class=\"data row6 col1\" >5.38%</td>\n",
       "            </tr>\n",
       "            <tr>\n",
       "                        <th id=\"T_cedf179e_bca8_11e9_83f7_b0359ff5a1c1level0_row7\" class=\"row_heading level0 row7\" >40+</th>\n",
       "                        <td id=\"T_cedf179e_bca8_11e9_83f7_b0359ff5a1c1row7_col0\" class=\"data row7 col0\" >12</td>\n",
       "                        <td id=\"T_cedf179e_bca8_11e9_83f7_b0359ff5a1c1row7_col1\" class=\"data row7 col1\" >2.08%</td>\n",
       "            </tr>\n",
       "    </tbody></table>"
      ],
      "text/plain": [
       "<pandas.io.formats.style.Styler at 0x2a0504f21d0>"
      ]
     },
     "execution_count": 64,
     "metadata": {},
     "output_type": "execute_result"
    }
   ],
   "source": [
    "# Establish bins of 4 years for ages\n",
    "age_bins = [0, 9.90, 14.90, 19.90, 24.90, 29.90, 34.90, 39.90, 99999]\n",
    "age_category = [\"<10\", \"10-14\", \"15-19\", \"20-24\", \"25-29\", \"30-34\", \"35-39\", \"40+\"]\n",
    "\n",
    "# Segment ages by age category and add one column called \"Age Category\" for age category  \n",
    "purchase_data[\"Age Category\"] = pd.cut(purchase_data[\"Age\"],age_bins, labels=age_category)\n",
    "purchase_data\n",
    "\n",
    "# Use groupby of \"Age Category\" to group ages\n",
    "age_grouped = purchase_data.groupby(\"Age Category\")\n",
    "\n",
    "# Get the total number of each age category after removing the duplicate screen names \"SN\"\n",
    "total_count_age = age_grouped[\"SN\"].nunique()\n",
    "\n",
    "# Calculate percentage of each individual age category \n",
    "percentage_of_players = (total_count_age/total_players) * 100\n",
    "\n",
    "# Create data frame with obtained values\n",
    "age_demographics = pd.DataFrame({\"Total Count\": total_count_age, \"Percentage of Players\": percentage_of_players})\n",
    "\n",
    "# Format percentage to round to two decimal places \n",
    "age_demographics.style.format({\"Percentage of Players\":\"{:,.2f}%\"})"
   ]
  },
  {
   "cell_type": "markdown",
   "metadata": {},
   "source": [
    "## Purchasing Analysis (Age)"
   ]
  },
  {
   "cell_type": "markdown",
   "metadata": {},
   "source": [
    "* Bin the purchase_data data frame by age\n",
    "\n",
    "\n",
    "* Run basic calculations to obtain purchase count, avg. purchase price, avg. purchase total per person etc. in the table below\n",
    "\n",
    "\n",
    "* Create a summary data frame to hold the results\n",
    "\n",
    "\n",
    "* Optional: give the displayed data cleaner formatting\n",
    "\n",
    "\n",
    "* Display the summary data frame"
   ]
  },
  {
   "cell_type": "code",
   "execution_count": 65,
   "metadata": {},
   "outputs": [
    {
     "data": {
      "text/html": [
       "<style  type=\"text/css\" >\n",
       "</style><table id=\"T_e2126124_bca8_11e9_91c2_b0359ff5a1c1\" ><thead>    <tr>        <th class=\"blank level0\" ></th>        <th class=\"col_heading level0 col0\" >Purchase Count</th>        <th class=\"col_heading level0 col1\" >Average Purchase Price</th>        <th class=\"col_heading level0 col2\" >Total Purchase Value</th>        <th class=\"col_heading level0 col3\" >Average Purchase Total per Person</th>    </tr>    <tr>        <th class=\"index_name level0\" >Age Category</th>        <th class=\"blank\" ></th>        <th class=\"blank\" ></th>        <th class=\"blank\" ></th>        <th class=\"blank\" ></th>    </tr></thead><tbody>\n",
       "                <tr>\n",
       "                        <th id=\"T_e2126124_bca8_11e9_91c2_b0359ff5a1c1level0_row0\" class=\"row_heading level0 row0\" ><10</th>\n",
       "                        <td id=\"T_e2126124_bca8_11e9_91c2_b0359ff5a1c1row0_col0\" class=\"data row0 col0\" >23</td>\n",
       "                        <td id=\"T_e2126124_bca8_11e9_91c2_b0359ff5a1c1row0_col1\" class=\"data row0 col1\" >$3.35</td>\n",
       "                        <td id=\"T_e2126124_bca8_11e9_91c2_b0359ff5a1c1row0_col2\" class=\"data row0 col2\" >$77.13</td>\n",
       "                        <td id=\"T_e2126124_bca8_11e9_91c2_b0359ff5a1c1row0_col3\" class=\"data row0 col3\" >$4.54</td>\n",
       "            </tr>\n",
       "            <tr>\n",
       "                        <th id=\"T_e2126124_bca8_11e9_91c2_b0359ff5a1c1level0_row1\" class=\"row_heading level0 row1\" >10-14</th>\n",
       "                        <td id=\"T_e2126124_bca8_11e9_91c2_b0359ff5a1c1row1_col0\" class=\"data row1 col0\" >28</td>\n",
       "                        <td id=\"T_e2126124_bca8_11e9_91c2_b0359ff5a1c1row1_col1\" class=\"data row1 col1\" >$2.96</td>\n",
       "                        <td id=\"T_e2126124_bca8_11e9_91c2_b0359ff5a1c1row1_col2\" class=\"data row1 col2\" >$82.78</td>\n",
       "                        <td id=\"T_e2126124_bca8_11e9_91c2_b0359ff5a1c1row1_col3\" class=\"data row1 col3\" >$3.76</td>\n",
       "            </tr>\n",
       "            <tr>\n",
       "                        <th id=\"T_e2126124_bca8_11e9_91c2_b0359ff5a1c1level0_row2\" class=\"row_heading level0 row2\" >15-19</th>\n",
       "                        <td id=\"T_e2126124_bca8_11e9_91c2_b0359ff5a1c1row2_col0\" class=\"data row2 col0\" >136</td>\n",
       "                        <td id=\"T_e2126124_bca8_11e9_91c2_b0359ff5a1c1row2_col1\" class=\"data row2 col1\" >$3.04</td>\n",
       "                        <td id=\"T_e2126124_bca8_11e9_91c2_b0359ff5a1c1row2_col2\" class=\"data row2 col2\" >$412.89</td>\n",
       "                        <td id=\"T_e2126124_bca8_11e9_91c2_b0359ff5a1c1row2_col3\" class=\"data row2 col3\" >$3.86</td>\n",
       "            </tr>\n",
       "            <tr>\n",
       "                        <th id=\"T_e2126124_bca8_11e9_91c2_b0359ff5a1c1level0_row3\" class=\"row_heading level0 row3\" >20-24</th>\n",
       "                        <td id=\"T_e2126124_bca8_11e9_91c2_b0359ff5a1c1row3_col0\" class=\"data row3 col0\" >365</td>\n",
       "                        <td id=\"T_e2126124_bca8_11e9_91c2_b0359ff5a1c1row3_col1\" class=\"data row3 col1\" >$3.05</td>\n",
       "                        <td id=\"T_e2126124_bca8_11e9_91c2_b0359ff5a1c1row3_col2\" class=\"data row3 col2\" >$1,114.06</td>\n",
       "                        <td id=\"T_e2126124_bca8_11e9_91c2_b0359ff5a1c1row3_col3\" class=\"data row3 col3\" >$4.32</td>\n",
       "            </tr>\n",
       "            <tr>\n",
       "                        <th id=\"T_e2126124_bca8_11e9_91c2_b0359ff5a1c1level0_row4\" class=\"row_heading level0 row4\" >25-29</th>\n",
       "                        <td id=\"T_e2126124_bca8_11e9_91c2_b0359ff5a1c1row4_col0\" class=\"data row4 col0\" >101</td>\n",
       "                        <td id=\"T_e2126124_bca8_11e9_91c2_b0359ff5a1c1row4_col1\" class=\"data row4 col1\" >$2.90</td>\n",
       "                        <td id=\"T_e2126124_bca8_11e9_91c2_b0359ff5a1c1row4_col2\" class=\"data row4 col2\" >$293.00</td>\n",
       "                        <td id=\"T_e2126124_bca8_11e9_91c2_b0359ff5a1c1row4_col3\" class=\"data row4 col3\" >$3.81</td>\n",
       "            </tr>\n",
       "            <tr>\n",
       "                        <th id=\"T_e2126124_bca8_11e9_91c2_b0359ff5a1c1level0_row5\" class=\"row_heading level0 row5\" >30-34</th>\n",
       "                        <td id=\"T_e2126124_bca8_11e9_91c2_b0359ff5a1c1row5_col0\" class=\"data row5 col0\" >73</td>\n",
       "                        <td id=\"T_e2126124_bca8_11e9_91c2_b0359ff5a1c1row5_col1\" class=\"data row5 col1\" >$2.93</td>\n",
       "                        <td id=\"T_e2126124_bca8_11e9_91c2_b0359ff5a1c1row5_col2\" class=\"data row5 col2\" >$214.00</td>\n",
       "                        <td id=\"T_e2126124_bca8_11e9_91c2_b0359ff5a1c1row5_col3\" class=\"data row5 col3\" >$4.12</td>\n",
       "            </tr>\n",
       "            <tr>\n",
       "                        <th id=\"T_e2126124_bca8_11e9_91c2_b0359ff5a1c1level0_row6\" class=\"row_heading level0 row6\" >35-39</th>\n",
       "                        <td id=\"T_e2126124_bca8_11e9_91c2_b0359ff5a1c1row6_col0\" class=\"data row6 col0\" >41</td>\n",
       "                        <td id=\"T_e2126124_bca8_11e9_91c2_b0359ff5a1c1row6_col1\" class=\"data row6 col1\" >$3.60</td>\n",
       "                        <td id=\"T_e2126124_bca8_11e9_91c2_b0359ff5a1c1row6_col2\" class=\"data row6 col2\" >$147.67</td>\n",
       "                        <td id=\"T_e2126124_bca8_11e9_91c2_b0359ff5a1c1row6_col3\" class=\"data row6 col3\" >$4.76</td>\n",
       "            </tr>\n",
       "            <tr>\n",
       "                        <th id=\"T_e2126124_bca8_11e9_91c2_b0359ff5a1c1level0_row7\" class=\"row_heading level0 row7\" >40+</th>\n",
       "                        <td id=\"T_e2126124_bca8_11e9_91c2_b0359ff5a1c1row7_col0\" class=\"data row7 col0\" >13</td>\n",
       "                        <td id=\"T_e2126124_bca8_11e9_91c2_b0359ff5a1c1row7_col1\" class=\"data row7 col1\" >$2.94</td>\n",
       "                        <td id=\"T_e2126124_bca8_11e9_91c2_b0359ff5a1c1row7_col2\" class=\"data row7 col2\" >$38.24</td>\n",
       "                        <td id=\"T_e2126124_bca8_11e9_91c2_b0359ff5a1c1row7_col3\" class=\"data row7 col3\" >$3.19</td>\n",
       "            </tr>\n",
       "    </tbody></table>"
      ],
      "text/plain": [
       "<pandas.io.formats.style.Styler at 0x2a04fc62ef0>"
      ]
     },
     "execution_count": 65,
     "metadata": {},
     "output_type": "execute_result"
    }
   ],
   "source": [
    "# Count how many times the purchases have been made by age category\n",
    "purchase_count_age = age_grouped[\"Purchase ID\"].count()\n",
    "\n",
    "# Calculate average purchase price by age category \n",
    "avg_purchase_price_age = age_grouped[\"Price\"].mean()\n",
    "\n",
    "# Calculate the total amount of purchases by age category \n",
    "total_purchase_age = age_grouped[\"Price\"].sum()\n",
    "\n",
    "# Calculate the average purchase per player in the age category \n",
    "avg_purchase_per_person_age = total_purchase_age/total_count_age\n",
    "\n",
    "# Create a summary data frame to hold the results\n",
    "age_demographics = pd.DataFrame({\"Purchase Count\": purchase_count_age,\n",
    "                                 \"Average Purchase Price\": avg_purchase_price_age,\n",
    "                                 \"Total Purchase Value\":total_purchase_age,\n",
    "                                 \"Average Purchase Total per Person\": avg_purchase_per_person_age})\n",
    "\n",
    "# Format dollar amount to round to two decimal places  \n",
    "age_demographics.style.format({\"Average Purchase Price\":\"${:,.2f}\",\n",
    "                               \"Total Purchase Value\":\"${:,.2f}\",\n",
    "                               \"Average Purchase Total per Person\":\"${:,.2f}\"})"
   ]
  },
  {
   "cell_type": "markdown",
   "metadata": {},
   "source": [
    "## Top Spenders"
   ]
  },
  {
   "cell_type": "markdown",
   "metadata": {},
   "source": [
    "* Run basic calculations to obtain the results in the table below\n",
    "\n",
    "\n",
    "* Create a summary data frame to hold the results\n",
    "\n",
    "\n",
    "* Sort the total purchase value column in descending order\n",
    "\n",
    "\n",
    "* Optional: give the displayed data cleaner formatting\n",
    "\n",
    "\n",
    "* Display a preview of the summary data frame\n",
    "\n"
   ]
  },
  {
   "cell_type": "code",
   "execution_count": 66,
   "metadata": {},
   "outputs": [
    {
     "data": {
      "text/html": [
       "<style  type=\"text/css\" >\n",
       "</style><table id=\"T_eb046bc6_bca8_11e9_b08e_b0359ff5a1c1\" ><thead>    <tr>        <th class=\"blank level0\" ></th>        <th class=\"col_heading level0 col0\" >Purchase Count</th>        <th class=\"col_heading level0 col1\" >Average Purchase Price</th>        <th class=\"col_heading level0 col2\" >Total Purchase Value</th>    </tr>    <tr>        <th class=\"index_name level0\" >SN</th>        <th class=\"blank\" ></th>        <th class=\"blank\" ></th>        <th class=\"blank\" ></th>    </tr></thead><tbody>\n",
       "                <tr>\n",
       "                        <th id=\"T_eb046bc6_bca8_11e9_b08e_b0359ff5a1c1level0_row0\" class=\"row_heading level0 row0\" >Lisosia93</th>\n",
       "                        <td id=\"T_eb046bc6_bca8_11e9_b08e_b0359ff5a1c1row0_col0\" class=\"data row0 col0\" >5</td>\n",
       "                        <td id=\"T_eb046bc6_bca8_11e9_b08e_b0359ff5a1c1row0_col1\" class=\"data row0 col1\" >$3.79</td>\n",
       "                        <td id=\"T_eb046bc6_bca8_11e9_b08e_b0359ff5a1c1row0_col2\" class=\"data row0 col2\" >$18.96</td>\n",
       "            </tr>\n",
       "            <tr>\n",
       "                        <th id=\"T_eb046bc6_bca8_11e9_b08e_b0359ff5a1c1level0_row1\" class=\"row_heading level0 row1\" >Idastidru52</th>\n",
       "                        <td id=\"T_eb046bc6_bca8_11e9_b08e_b0359ff5a1c1row1_col0\" class=\"data row1 col0\" >4</td>\n",
       "                        <td id=\"T_eb046bc6_bca8_11e9_b08e_b0359ff5a1c1row1_col1\" class=\"data row1 col1\" >$3.86</td>\n",
       "                        <td id=\"T_eb046bc6_bca8_11e9_b08e_b0359ff5a1c1row1_col2\" class=\"data row1 col2\" >$15.45</td>\n",
       "            </tr>\n",
       "            <tr>\n",
       "                        <th id=\"T_eb046bc6_bca8_11e9_b08e_b0359ff5a1c1level0_row2\" class=\"row_heading level0 row2\" >Chamjask73</th>\n",
       "                        <td id=\"T_eb046bc6_bca8_11e9_b08e_b0359ff5a1c1row2_col0\" class=\"data row2 col0\" >3</td>\n",
       "                        <td id=\"T_eb046bc6_bca8_11e9_b08e_b0359ff5a1c1row2_col1\" class=\"data row2 col1\" >$4.61</td>\n",
       "                        <td id=\"T_eb046bc6_bca8_11e9_b08e_b0359ff5a1c1row2_col2\" class=\"data row2 col2\" >$13.83</td>\n",
       "            </tr>\n",
       "            <tr>\n",
       "                        <th id=\"T_eb046bc6_bca8_11e9_b08e_b0359ff5a1c1level0_row3\" class=\"row_heading level0 row3\" >Iral74</th>\n",
       "                        <td id=\"T_eb046bc6_bca8_11e9_b08e_b0359ff5a1c1row3_col0\" class=\"data row3 col0\" >4</td>\n",
       "                        <td id=\"T_eb046bc6_bca8_11e9_b08e_b0359ff5a1c1row3_col1\" class=\"data row3 col1\" >$3.40</td>\n",
       "                        <td id=\"T_eb046bc6_bca8_11e9_b08e_b0359ff5a1c1row3_col2\" class=\"data row3 col2\" >$13.62</td>\n",
       "            </tr>\n",
       "            <tr>\n",
       "                        <th id=\"T_eb046bc6_bca8_11e9_b08e_b0359ff5a1c1level0_row4\" class=\"row_heading level0 row4\" >Iskadarya95</th>\n",
       "                        <td id=\"T_eb046bc6_bca8_11e9_b08e_b0359ff5a1c1row4_col0\" class=\"data row4 col0\" >3</td>\n",
       "                        <td id=\"T_eb046bc6_bca8_11e9_b08e_b0359ff5a1c1row4_col1\" class=\"data row4 col1\" >$4.37</td>\n",
       "                        <td id=\"T_eb046bc6_bca8_11e9_b08e_b0359ff5a1c1row4_col2\" class=\"data row4 col2\" >$13.10</td>\n",
       "            </tr>\n",
       "    </tbody></table>"
      ],
      "text/plain": [
       "<pandas.io.formats.style.Styler at 0x2a0504a3908>"
      ]
     },
     "execution_count": 66,
     "metadata": {},
     "output_type": "execute_result"
    }
   ],
   "source": [
    "# Use groupby of \"SN\" to group each SN player\n",
    "spender_sn = purchase_data.groupby(\"SN\")\n",
    "\n",
    "# Count how many times the purchases have been done by each SN player\n",
    "purchase_count_sn = spender_sn[\"Purchase ID\"].count()\n",
    "\n",
    "# Calculate the average price by each SN player \n",
    "avg_purchase_price_sn = spender_sn[\"Price\"].mean()\n",
    "\n",
    "# Calculate the total amount of purchases by each SN player \n",
    "purchase_total_sn = spender_sn[\"Price\"].sum()\n",
    "\n",
    "# Create a summary data frame to hold the results\n",
    "top_spenders = pd.DataFrame({\"Purchase Count\": purchase_count_sn,\n",
    "                             \"Average Purchase Price\": avg_purchase_price_sn,\n",
    "                             \"Total Purchase Value\":purchase_total_sn})\n",
    "\n",
    "# Sort in descending order to obtain top 5 spender names \n",
    "formatted_spenders = top_spenders.sort_values([\"Total Purchase Value\"], ascending=False).head()\n",
    "\n",
    "# Format dollar amount to round to two decimal places\n",
    "formatted_spenders.style.format({\"Average Purchase Total\":\"${:,.2f}\",\n",
    "                                 \"Average Purchase Price\":\"${:,.2f}\", \n",
    "                                 \"Total Purchase Value\":\"${:,.2f}\"})"
   ]
  },
  {
   "cell_type": "markdown",
   "metadata": {},
   "source": [
    "## Most Popular Items"
   ]
  },
  {
   "cell_type": "markdown",
   "metadata": {},
   "source": [
    "* Retrieve the Item ID, Item Name, and Item Price columns\n",
    "\n",
    "\n",
    "* Group by Item ID and Item Name. Perform calculations to obtain purchase count, item price, and total purchase value\n",
    "\n",
    "\n",
    "* Create a summary data frame to hold the results\n",
    "\n",
    "\n",
    "* Sort the purchase count column in descending order\n",
    "\n",
    "\n",
    "* Optional: give the displayed data cleaner formatting\n",
    "\n",
    "\n",
    "* Display a preview of the summary data frame\n",
    "\n"
   ]
  },
  {
   "cell_type": "code",
   "execution_count": 74,
   "metadata": {},
   "outputs": [
    {
     "data": {
      "text/html": [
       "<style  type=\"text/css\" >\n",
       "</style><table id=\"T_68276724_bca9_11e9_a6dd_b0359ff5a1c1\" ><thead>    <tr>        <th class=\"blank\" ></th>        <th class=\"blank level0\" ></th>        <th class=\"col_heading level0 col0\" >Purchase Count</th>        <th class=\"col_heading level0 col1\" >Item Price</th>        <th class=\"col_heading level0 col2\" >Total Purchase Value</th>    </tr>    <tr>        <th class=\"index_name level0\" >Item ID</th>        <th class=\"index_name level1\" >Item Name</th>        <th class=\"blank\" ></th>        <th class=\"blank\" ></th>        <th class=\"blank\" ></th>    </tr></thead><tbody>\n",
       "                <tr>\n",
       "                        <th id=\"T_68276724_bca9_11e9_a6dd_b0359ff5a1c1level0_row0\" class=\"row_heading level0 row0\" >178</th>\n",
       "                        <th id=\"T_68276724_bca9_11e9_a6dd_b0359ff5a1c1level1_row0\" class=\"row_heading level1 row0\" >Oathbreaker, Last Hope of the Breaking Storm</th>\n",
       "                        <td id=\"T_68276724_bca9_11e9_a6dd_b0359ff5a1c1row0_col0\" class=\"data row0 col0\" >12</td>\n",
       "                        <td id=\"T_68276724_bca9_11e9_a6dd_b0359ff5a1c1row0_col1\" class=\"data row0 col1\" >$4.23</td>\n",
       "                        <td id=\"T_68276724_bca9_11e9_a6dd_b0359ff5a1c1row0_col2\" class=\"data row0 col2\" >$50.76</td>\n",
       "            </tr>\n",
       "            <tr>\n",
       "                        <th id=\"T_68276724_bca9_11e9_a6dd_b0359ff5a1c1level0_row1\" class=\"row_heading level0 row1\" >145</th>\n",
       "                        <th id=\"T_68276724_bca9_11e9_a6dd_b0359ff5a1c1level1_row1\" class=\"row_heading level1 row1\" >Fiery Glass Crusader</th>\n",
       "                        <td id=\"T_68276724_bca9_11e9_a6dd_b0359ff5a1c1row1_col0\" class=\"data row1 col0\" >9</td>\n",
       "                        <td id=\"T_68276724_bca9_11e9_a6dd_b0359ff5a1c1row1_col1\" class=\"data row1 col1\" >$4.58</td>\n",
       "                        <td id=\"T_68276724_bca9_11e9_a6dd_b0359ff5a1c1row1_col2\" class=\"data row1 col2\" >$41.22</td>\n",
       "            </tr>\n",
       "            <tr>\n",
       "                        <th id=\"T_68276724_bca9_11e9_a6dd_b0359ff5a1c1level0_row2\" class=\"row_heading level0 row2\" >108</th>\n",
       "                        <th id=\"T_68276724_bca9_11e9_a6dd_b0359ff5a1c1level1_row2\" class=\"row_heading level1 row2\" >Extraction, Quickblade Of Trembling Hands</th>\n",
       "                        <td id=\"T_68276724_bca9_11e9_a6dd_b0359ff5a1c1row2_col0\" class=\"data row2 col0\" >9</td>\n",
       "                        <td id=\"T_68276724_bca9_11e9_a6dd_b0359ff5a1c1row2_col1\" class=\"data row2 col1\" >$3.53</td>\n",
       "                        <td id=\"T_68276724_bca9_11e9_a6dd_b0359ff5a1c1row2_col2\" class=\"data row2 col2\" >$31.77</td>\n",
       "            </tr>\n",
       "            <tr>\n",
       "                        <th id=\"T_68276724_bca9_11e9_a6dd_b0359ff5a1c1level0_row3\" class=\"row_heading level0 row3\" >82</th>\n",
       "                        <th id=\"T_68276724_bca9_11e9_a6dd_b0359ff5a1c1level1_row3\" class=\"row_heading level1 row3\" >Nirvana</th>\n",
       "                        <td id=\"T_68276724_bca9_11e9_a6dd_b0359ff5a1c1row3_col0\" class=\"data row3 col0\" >9</td>\n",
       "                        <td id=\"T_68276724_bca9_11e9_a6dd_b0359ff5a1c1row3_col1\" class=\"data row3 col1\" >$4.90</td>\n",
       "                        <td id=\"T_68276724_bca9_11e9_a6dd_b0359ff5a1c1row3_col2\" class=\"data row3 col2\" >$44.10</td>\n",
       "            </tr>\n",
       "            <tr>\n",
       "                        <th id=\"T_68276724_bca9_11e9_a6dd_b0359ff5a1c1level0_row4\" class=\"row_heading level0 row4\" >19</th>\n",
       "                        <th id=\"T_68276724_bca9_11e9_a6dd_b0359ff5a1c1level1_row4\" class=\"row_heading level1 row4\" >Pursuit, Cudgel of Necromancy</th>\n",
       "                        <td id=\"T_68276724_bca9_11e9_a6dd_b0359ff5a1c1row4_col0\" class=\"data row4 col0\" >8</td>\n",
       "                        <td id=\"T_68276724_bca9_11e9_a6dd_b0359ff5a1c1row4_col1\" class=\"data row4 col1\" >$1.02</td>\n",
       "                        <td id=\"T_68276724_bca9_11e9_a6dd_b0359ff5a1c1row4_col2\" class=\"data row4 col2\" >$8.16</td>\n",
       "            </tr>\n",
       "    </tbody></table>"
      ],
      "text/plain": [
       "<pandas.io.formats.style.Styler at 0x2a05022a518>"
      ]
     },
     "execution_count": 74,
     "metadata": {},
     "output_type": "execute_result"
    }
   ],
   "source": [
    "# Create new data frame with  Item ID, Item Name, and Item Price columns \n",
    "items_df = purchase_data[[\"Item ID\", \"Item Name\", \"Price\"]]\n",
    "\n",
    "# Use groupby of \"Item ID\" &\"Item Name\" to group each Item \n",
    "item_group = items_df.groupby([\"Item ID\",\"Item Name\"])\n",
    "\n",
    "# Count how many times items have been purchased \n",
    "purchase_count_item = item_group[\"Price\"].count()\n",
    "\n",
    "# Calcualte the total amount of purchase per item \n",
    "purchase_total_item = (item_group[\"Price\"].sum()) \n",
    "\n",
    "# Find each individual item price\n",
    "item_price = purchase_total_item/purchase_count_item\n",
    "\n",
    "# Create a summary data frame to hold the results\n",
    "most_popular_items_df = pd.DataFrame({\"Purchase Count\": purchase_count_item, \n",
    "                                   \"Item Price\": item_price,\n",
    "                                   \"Total Purchase Value\": purchase_total_item})\n",
    "\n",
    "# Sort in descending order to obtain top spender names and provide top 5 item names\n",
    "popular_formatted_df = most_popular_items_df.sort_values([\"Purchase Count\"], ascending=False).head()\n",
    "\n",
    "# Format dollar amount to round to two decimal places\n",
    "popular_formatted_df.style.format({\"Item Price\":\"${:,.2f}\",\n",
    "                                \"Total Purchase Value\":\"${:,.2f}\"})"
   ]
  },
  {
   "cell_type": "markdown",
   "metadata": {},
   "source": [
    "## Most Profitable Items"
   ]
  },
  {
   "cell_type": "markdown",
   "metadata": {},
   "source": [
    "* Sort the above table by total purchase value in descending order\n",
    "\n",
    "\n",
    "* Optional: give the displayed data cleaner formatting\n",
    "\n",
    "\n",
    "* Display a preview of the data frame\n",
    "\n"
   ]
  },
  {
   "cell_type": "code",
   "execution_count": 78,
   "metadata": {
    "scrolled": true
   },
   "outputs": [
    {
     "data": {
      "text/html": [
       "<style  type=\"text/css\" >\n",
       "</style><table id=\"T_bca71da8_bca9_11e9_831c_b0359ff5a1c1\" ><thead>    <tr>        <th class=\"blank\" ></th>        <th class=\"blank level0\" ></th>        <th class=\"col_heading level0 col0\" >Purchase Count</th>        <th class=\"col_heading level0 col1\" >Item Price</th>        <th class=\"col_heading level0 col2\" >Total Purchase Value</th>    </tr>    <tr>        <th class=\"index_name level0\" >Item ID</th>        <th class=\"index_name level1\" >Item Name</th>        <th class=\"blank\" ></th>        <th class=\"blank\" ></th>        <th class=\"blank\" ></th>    </tr></thead><tbody>\n",
       "                <tr>\n",
       "                        <th id=\"T_bca71da8_bca9_11e9_831c_b0359ff5a1c1level0_row0\" class=\"row_heading level0 row0\" >178</th>\n",
       "                        <th id=\"T_bca71da8_bca9_11e9_831c_b0359ff5a1c1level1_row0\" class=\"row_heading level1 row0\" >Oathbreaker, Last Hope of the Breaking Storm</th>\n",
       "                        <td id=\"T_bca71da8_bca9_11e9_831c_b0359ff5a1c1row0_col0\" class=\"data row0 col0\" >12</td>\n",
       "                        <td id=\"T_bca71da8_bca9_11e9_831c_b0359ff5a1c1row0_col1\" class=\"data row0 col1\" >$4.23</td>\n",
       "                        <td id=\"T_bca71da8_bca9_11e9_831c_b0359ff5a1c1row0_col2\" class=\"data row0 col2\" >$50.76</td>\n",
       "            </tr>\n",
       "            <tr>\n",
       "                        <th id=\"T_bca71da8_bca9_11e9_831c_b0359ff5a1c1level0_row1\" class=\"row_heading level0 row1\" >82</th>\n",
       "                        <th id=\"T_bca71da8_bca9_11e9_831c_b0359ff5a1c1level1_row1\" class=\"row_heading level1 row1\" >Nirvana</th>\n",
       "                        <td id=\"T_bca71da8_bca9_11e9_831c_b0359ff5a1c1row1_col0\" class=\"data row1 col0\" >9</td>\n",
       "                        <td id=\"T_bca71da8_bca9_11e9_831c_b0359ff5a1c1row1_col1\" class=\"data row1 col1\" >$4.90</td>\n",
       "                        <td id=\"T_bca71da8_bca9_11e9_831c_b0359ff5a1c1row1_col2\" class=\"data row1 col2\" >$44.10</td>\n",
       "            </tr>\n",
       "            <tr>\n",
       "                        <th id=\"T_bca71da8_bca9_11e9_831c_b0359ff5a1c1level0_row2\" class=\"row_heading level0 row2\" >145</th>\n",
       "                        <th id=\"T_bca71da8_bca9_11e9_831c_b0359ff5a1c1level1_row2\" class=\"row_heading level1 row2\" >Fiery Glass Crusader</th>\n",
       "                        <td id=\"T_bca71da8_bca9_11e9_831c_b0359ff5a1c1row2_col0\" class=\"data row2 col0\" >9</td>\n",
       "                        <td id=\"T_bca71da8_bca9_11e9_831c_b0359ff5a1c1row2_col1\" class=\"data row2 col1\" >$4.58</td>\n",
       "                        <td id=\"T_bca71da8_bca9_11e9_831c_b0359ff5a1c1row2_col2\" class=\"data row2 col2\" >$41.22</td>\n",
       "            </tr>\n",
       "            <tr>\n",
       "                        <th id=\"T_bca71da8_bca9_11e9_831c_b0359ff5a1c1level0_row3\" class=\"row_heading level0 row3\" >92</th>\n",
       "                        <th id=\"T_bca71da8_bca9_11e9_831c_b0359ff5a1c1level1_row3\" class=\"row_heading level1 row3\" >Final Critic</th>\n",
       "                        <td id=\"T_bca71da8_bca9_11e9_831c_b0359ff5a1c1row3_col0\" class=\"data row3 col0\" >8</td>\n",
       "                        <td id=\"T_bca71da8_bca9_11e9_831c_b0359ff5a1c1row3_col1\" class=\"data row3 col1\" >$4.88</td>\n",
       "                        <td id=\"T_bca71da8_bca9_11e9_831c_b0359ff5a1c1row3_col2\" class=\"data row3 col2\" >$39.04</td>\n",
       "            </tr>\n",
       "            <tr>\n",
       "                        <th id=\"T_bca71da8_bca9_11e9_831c_b0359ff5a1c1level0_row4\" class=\"row_heading level0 row4\" >103</th>\n",
       "                        <th id=\"T_bca71da8_bca9_11e9_831c_b0359ff5a1c1level1_row4\" class=\"row_heading level1 row4\" >Singed Scalpel</th>\n",
       "                        <td id=\"T_bca71da8_bca9_11e9_831c_b0359ff5a1c1row4_col0\" class=\"data row4 col0\" >8</td>\n",
       "                        <td id=\"T_bca71da8_bca9_11e9_831c_b0359ff5a1c1row4_col1\" class=\"data row4 col1\" >$4.35</td>\n",
       "                        <td id=\"T_bca71da8_bca9_11e9_831c_b0359ff5a1c1row4_col2\" class=\"data row4 col2\" >$34.80</td>\n",
       "            </tr>\n",
       "    </tbody></table>"
      ],
      "text/plain": [
       "<pandas.io.formats.style.Styler at 0x2a05054c7f0>"
      ]
     },
     "execution_count": 78,
     "metadata": {},
     "output_type": "execute_result"
    }
   ],
   "source": [
    "# Sort the most_popular items data frame in descending order to see the highest total purchase value\n",
    "popular_formatted_df = most_popular_items_df.sort_values([\"Total Purchase Value\"], ascending=False).head()\n",
    "\n",
    "# Format dollar amount to round to two decimal places\n",
    "popular_formatted_df.style.format({\"Item Price\":\"${:,.2f}\",\n",
    "                                \"Total Purchase Value\":\"${:,.2f}\"})"
   ]
  }
 ],
 "metadata": {
  "anaconda-cloud": {},
  "kernel_info": {
   "name": "python3"
  },
  "kernelspec": {
   "display_name": "Python 3",
   "language": "python",
   "name": "python3"
  },
  "language_info": {
   "codemirror_mode": {
    "name": "ipython",
    "version": 3
   },
   "file_extension": ".py",
   "mimetype": "text/x-python",
   "name": "python",
   "nbconvert_exporter": "python",
   "pygments_lexer": "ipython3",
   "version": "3.7.3"
  },
  "nteract": {
   "version": "0.2.0"
  }
 },
 "nbformat": 4,
 "nbformat_minor": 2
}
