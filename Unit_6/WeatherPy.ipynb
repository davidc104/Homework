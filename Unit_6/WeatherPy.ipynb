{
 "cells": [
  {
   "cell_type": "markdown",
   "metadata": {},
   "source": [
    "# WeatherPy\n",
    "----\n",
    "\n",
    "#### Note\n",
    "* Instructions have been included for each segment. You do not have to follow them exactly, but they are included to help you think through the steps."
   ]
  },
  {
   "cell_type": "code",
   "execution_count": 1,
   "metadata": {
    "scrolled": true
   },
   "outputs": [],
   "source": [
    "# Dependencies and Setup\n",
    "import matplotlib.pyplot as plt\n",
    "import pandas as pd\n",
    "import numpy as np\n",
    "import requests\n",
    "import csv\n",
    "\n",
    "# Import API key\n",
    "from api_keys import api_key\n",
    "\n",
    "# Incorporated citipy to determine city based on latitude and longitude\n",
    "from citipy import citipy\n",
    "\n",
    "# Output File (CSV)\n",
    "output_data_file = \"output_data/cities.csv\"\n",
    "\n",
    "# Range of latitudes and longitudes\n",
    "lat_range = (-90, 90)\n",
    "lng_range = (-180, 180)\n",
    " "
   ]
  },
  {
   "cell_type": "markdown",
   "metadata": {},
   "source": [
    "## Generate Cities List"
   ]
  },
  {
   "cell_type": "code",
   "execution_count": 2,
   "metadata": {},
   "outputs": [
    {
     "data": {
      "text/plain": [
       "647"
      ]
     },
     "execution_count": 2,
     "metadata": {},
     "output_type": "execute_result"
    }
   ],
   "source": [
    "# List for holding lat_lngs and cities\n",
    "lat_lngs = []\n",
    "cities = []\n",
    "cities_info = []\n",
    "\n",
    "weather_df = pd.DataFrame(columns=['city_name', 'country_code', 'latitude', 'longitude'])\n",
    "\n",
    "# Create a set of random lat and lng combinations\n",
    "lats = np.random.uniform(low=-90.000, high=90.000, size=1500)\n",
    "lngs = np.random.uniform(low=-180.000, high=180.000, size=1500)\n",
    "lat_lngs = zip(lats, lngs)\n",
    "\n",
    "# Identify nearest city for each lat, lng combination\n",
    "for lat_lng in lat_lngs:\n",
    "    cityName = citipy.nearest_city(lat_lng[0], lat_lng[1]).city_name\n",
    "    countryCode = citipy.nearest_city(lat_lng[0], lat_lng[1]).country_code\n",
    "    \n",
    "    # If the city is unique, then add it to a our cities list\n",
    "    if cityName not in cities:\n",
    "        cities.append(cityName)\n",
    "        # Append City name, Country code, latitude, longitude\n",
    "        cities_info.append((cityName, countryCode, round(lat_lng[0], 5), round(lat_lng[1], 5)))\n",
    "\n",
    "# Create a data frame from the list of cities_info\n",
    "cities_info_df = pd.DataFrame(cities_info)\n",
    "\n",
    "# Rename the column names\n",
    "cities_info_df = cities_info_df.rename(columns={0: \"city_name\",\n",
    "                                                1: \"country_code\",\n",
    "                                                2: \"latitude\",\n",
    "                                                3: \"longitude\"})\n",
    "\n",
    "# Check to see how many cities are randomly generated\n",
    "len(cities_info_df)"
   ]
  },
  {
   "cell_type": "markdown",
   "metadata": {},
   "source": [
    "### Perform API Calls\n",
    "* Perform a weather check on each city using a series of successive API calls.\n",
    "* Include a print log of each city as it'sbeing processed (with the city number and city name).\n"
   ]
  },
  {
   "cell_type": "code",
   "execution_count": 3,
   "metadata": {},
   "outputs": [],
   "source": [
    "# Define the url for the weather search\n",
    "base_url = 'http://api.openweathermap.org/data/2.5/weather?'\n",
    "\n",
    "rows_to_drop = []\n",
    "cities_url = []\n",
    "cities_weather = []\n",
    "\n",
    "# Retrieve the values of tempature, humidity, cloudiness, wind_speed\n",
    "for row in range(0, len(cities_info_df)):\n",
    "    try:\n",
    "        lat = cities_info_df.loc[row]['latitude']\n",
    "        lng = cities_info_df.loc[row]['longitude']\n",
    "        query_url = base_url + 'units=imperial&lat='+ str(lat) + \\\n",
    "        '&lon='+ str(lng) +'&appid=' + api_key\n",
    "        \n",
    "        response = requests.get(query_url)\n",
    "        result=response.json()\n",
    "        #print(result)\n",
    "        query_url = base_url + 'units=imperial&lat='+ str(lat) + \\\n",
    "        '&lon='+ str(lng) +'&appid=XXXXXXXXXXXXX'\n",
    "        cities_url.append(query_url)\n",
    "          \n",
    "        city = cities_info_df.loc[row]['city_name']\n",
    "        code = cities_info_df.loc[row]['country_code']\n",
    "        temp = float(result['main']['temp'])\n",
    "        humidity = result['main']['humidity']\n",
    "        clouds = result['clouds']['all']\n",
    "        speed = result['wind']['speed']\n",
    "\n",
    "        cities_weather.append((city, code, temp, humidity, clouds, speed))\n",
    "    except KeyError:\n",
    "        rows_to_drop.append(row)\n",
    "\n",
    "# Define the column names\n",
    "column_names = ['city_name', 'country_code', 'temp', 'humidity', 'cloudiness', 'wind_speed']\n",
    "\n",
    "# Create a data frame from a list of cities_weather with meaningful column names\n",
    "cities_weather_df = pd.DataFrame(cities_weather, columns=column_names)\n",
    "\n",
    "# Merge two data frame with same column names of city_name and country_code\n",
    "weather_df = pd.merge(cities_info_df, cities_weather_df, on=[\"city_name\", \"country_code\"])"
   ]
  },
  {
   "cell_type": "markdown",
   "metadata": {},
   "source": [
    "### Convert Raw Data to DataFrame\n",
    "* Export the city data into a .csv.\n",
    "* Display the DataFrame"
   ]
  },
  {
   "cell_type": "code",
   "execution_count": 4,
   "metadata": {},
   "outputs": [
    {
     "data": {
      "text/html": [
       "<div>\n",
       "<style scoped>\n",
       "    .dataframe tbody tr th:only-of-type {\n",
       "        vertical-align: middle;\n",
       "    }\n",
       "\n",
       "    .dataframe tbody tr th {\n",
       "        vertical-align: top;\n",
       "    }\n",
       "\n",
       "    .dataframe thead th {\n",
       "        text-align: right;\n",
       "    }\n",
       "</style>\n",
       "<table border=\"1\" class=\"dataframe\">\n",
       "  <thead>\n",
       "    <tr style=\"text-align: right;\">\n",
       "      <th></th>\n",
       "      <th>city_name</th>\n",
       "      <th>country_code</th>\n",
       "      <th>latitude</th>\n",
       "      <th>longitude</th>\n",
       "      <th>temp</th>\n",
       "      <th>humidity</th>\n",
       "      <th>cloudiness</th>\n",
       "      <th>wind_speed</th>\n",
       "    </tr>\n",
       "  </thead>\n",
       "  <tbody>\n",
       "    <tr>\n",
       "      <th>0</th>\n",
       "      <td>punta arenas</td>\n",
       "      <td>cl</td>\n",
       "      <td>-84.83948</td>\n",
       "      <td>-111.73724</td>\n",
       "      <td>-36.82</td>\n",
       "      <td>85</td>\n",
       "      <td>50</td>\n",
       "      <td>8.97</td>\n",
       "    </tr>\n",
       "    <tr>\n",
       "      <th>1</th>\n",
       "      <td>edmond</td>\n",
       "      <td>us</td>\n",
       "      <td>35.70638</td>\n",
       "      <td>-97.30680</td>\n",
       "      <td>86.74</td>\n",
       "      <td>62</td>\n",
       "      <td>1</td>\n",
       "      <td>9.17</td>\n",
       "    </tr>\n",
       "    <tr>\n",
       "      <th>2</th>\n",
       "      <td>tasiilaq</td>\n",
       "      <td>gl</td>\n",
       "      <td>74.83477</td>\n",
       "      <td>-39.97976</td>\n",
       "      <td>2.96</td>\n",
       "      <td>96</td>\n",
       "      <td>100</td>\n",
       "      <td>9.75</td>\n",
       "    </tr>\n",
       "    <tr>\n",
       "      <th>3</th>\n",
       "      <td>hobart</td>\n",
       "      <td>au</td>\n",
       "      <td>-78.01475</td>\n",
       "      <td>150.95578</td>\n",
       "      <td>-41.68</td>\n",
       "      <td>95</td>\n",
       "      <td>100</td>\n",
       "      <td>18.32</td>\n",
       "    </tr>\n",
       "    <tr>\n",
       "      <th>4</th>\n",
       "      <td>luderitz</td>\n",
       "      <td>na</td>\n",
       "      <td>-32.73477</td>\n",
       "      <td>5.76531</td>\n",
       "      <td>56.78</td>\n",
       "      <td>57</td>\n",
       "      <td>93</td>\n",
       "      <td>13.04</td>\n",
       "    </tr>\n",
       "  </tbody>\n",
       "</table>\n",
       "</div>"
      ],
      "text/plain": [
       "      city_name country_code  latitude  longitude   temp  humidity  \\\n",
       "0  punta arenas           cl -84.83948 -111.73724 -36.82        85   \n",
       "1        edmond           us  35.70638  -97.30680  86.74        62   \n",
       "2      tasiilaq           gl  74.83477  -39.97976   2.96        96   \n",
       "3        hobart           au -78.01475  150.95578 -41.68        95   \n",
       "4      luderitz           na -32.73477    5.76531  56.78        57   \n",
       "\n",
       "   cloudiness  wind_speed  \n",
       "0          50        8.97  \n",
       "1           1        9.17  \n",
       "2         100        9.75  \n",
       "3         100       18.32  \n",
       "4          93       13.04  "
      ]
     },
     "execution_count": 4,
     "metadata": {},
     "output_type": "execute_result"
    }
   ],
   "source": [
    "# Export the city data into a .csv\n",
    "with open(\"output_data/cities_url.csv\",\"w\") as f:\n",
    "    wr = csv.writer(f,delimiter=\"\\n\")\n",
    "    wr.writerow(cities_url)\n",
    "    \n",
    "weather_df.to_csv(output_data_file, index=False)\n",
    "weather_df.head()"
   ]
  },
  {
   "cell_type": "markdown",
   "metadata": {},
   "source": [
    "### Plotting the Data\n",
    "* Use proper labeling of the plots using plot titles (including date of analysis) and axes labels.\n",
    "* Save the plotted figures as .pngs."
   ]
  },
  {
   "cell_type": "markdown",
   "metadata": {},
   "source": [
    "#### Latitude vs. Temperature Plot"
   ]
  },
  {
   "cell_type": "code",
   "execution_count": 5,
   "metadata": {},
   "outputs": [
    {
     "data": {
      "image/png": "[encoded data removed]",
      "text/plain": [
       "<Figure size 432x288 with 1 Axes>"
      ]
     },
     "metadata": {
      "needs_background": "light"
     },
     "output_type": "display_data"
    }
   ],
   "source": [
    "# Temperature (F) vs. Latitude\n",
    "#X-axis: Latitude\n",
    "#Y-axis: Temperature\n",
    "x_axis = weather_df['latitude']\n",
    "y_axis = weather_df['temp']\n",
    "\n",
    "# Define the ranges for x-axis and y-axis\n",
    "x_min=x_axis.min()-10\n",
    "x_max=x_axis.max()+10\n",
    "\n",
    "y_min=y_axis.min()-10\n",
    "y_max=y_axis.max()+10\n",
    "\n",
    "plt.xlim(x_min,x_max)\n",
    "plt.ylim(y_min,y_max)\n",
    "\n",
    "# Define the labels\n",
    "plt.title(\"Temperature (F) vs. Latitude\")\n",
    "plt.xlabel(\"Latitude\")\n",
    "plt.ylabel(\"Temp (degrees F)\")\n",
    "\n",
    "# Plot sctter diagram and save to .png\n",
    "plt.scatter(x_axis, y_axis, marker=\"o\", color=\"red\")\n",
    "plt.savefig('output_data/Temperature_Latitude.png')\n",
    "plt.show()"
   ]
  },
  {
   "cell_type": "markdown",
   "metadata": {},
   "source": [
    "#### Latitude vs. Humidity Plot"
   ]
  },
  {
   "cell_type": "code",
   "execution_count": 6,
   "metadata": {},
   "outputs": [
    {
     "data": {
      "image/png": "[encoded data removed]",
      "text/plain": [
       "<Figure size 432x288 with 1 Axes>"
      ]
     },
     "metadata": {
      "needs_background": "light"
     },
     "output_type": "display_data"
    }
   ],
   "source": [
    "##Humidity (%) vs. Latitude\n",
    "#X-axis: Latitude\n",
    "#Y-axis: Humidity (%)\n",
    "x_axis = weather_df['latitude']\n",
    "y_axis = weather_df['humidity']\n",
    "\n",
    "# Define the ranges for x-axis and y-axis\n",
    "x_min=x_axis.min()-10\n",
    "x_max=x_axis.max()+10\n",
    "\n",
    "y_min=y_axis.min()-10\n",
    "y_max=y_axis.max()+10\n",
    "\n",
    "plt.xlim(x_min,x_max)\n",
    "plt.ylim(y_min,y_max)\n",
    "\n",
    "# Define the labels\n",
    "plt.title(\"Humidity (%) vs. Latitude\\n\\n\\n\")\n",
    "plt.xlabel(\"\\nLatitude\")\n",
    "plt.ylabel(\"Humidity (%)\\n\")\n",
    "\n",
    "# Plot sctter diagram and save to .png\n",
    "plt.scatter(x_axis, y_axis, marker=\"o\", color=\"red\")\n",
    "plt.savefig('output_data/Humidity_Latitude.png')\n",
    "plt.show()"
   ]
  },
  {
   "cell_type": "markdown",
   "metadata": {},
   "source": [
    "#### Latitude vs. Cloudiness Plot"
   ]
  },
  {
   "cell_type": "code",
   "execution_count": 7,
   "metadata": {},
   "outputs": [
    {
     "data": {
      "image/png": "[encoded data removed]",
      "text/plain": [
       "<Figure size 432x288 with 1 Axes>"
      ]
     },
     "metadata": {
      "needs_background": "light"
     },
     "output_type": "display_data"
    }
   ],
   "source": [
    "#Cloudiness (%) vs. Latitude\n",
    "#X-axis: Latitude\n",
    "#Y-axis: Cloudiness (%)\n",
    "x_axis = weather_df['latitude']\n",
    "y_axis = weather_df['cloudiness']\n",
    "\n",
    "x_min=x_axis.min()-10\n",
    "x_max=x_axis.max()+10\n",
    "\n",
    "y_min=y_axis.min()-10\n",
    "y_max=y_axis.max()+10\n",
    "\n",
    "plt.xlim(x_min,x_max)\n",
    "plt.ylim(y_min,y_max)\n",
    "\n",
    "# Define the labels\n",
    "plt.title(\"Cloudiness (%) vs. Latitude\\n\\n\\n\")\n",
    "plt.xlabel(\"\\nLatitude\")\n",
    "plt.ylabel(\"Cloudiness (%)\\n\")\n",
    "\n",
    "# Plot sctter diagram and save to .png\n",
    "plt.scatter(x_axis, y_axis, marker=\"o\", color=\"red\")\n",
    "plt.savefig('output_data/Cloudiness_Latitude.png')\n",
    "plt.show()"
   ]
  },
  {
   "cell_type": "markdown",
   "metadata": {},
   "source": [
    "#### Latitude vs. Wind Speed Plot"
   ]
  },
  {
   "cell_type": "code",
   "execution_count": 8,
   "metadata": {},
   "outputs": [
    {
     "data": {
      "image/png": "[encoded data removed]",
      "text/plain": [
       "<Figure size 432x288 with 1 Axes>"
      ]
     },
     "metadata": {
      "needs_background": "light"
     },
     "output_type": "display_data"
    }
   ],
   "source": [
    "#Wind Speed (mph) vs. Latitude\n",
    "#X-axis: Latitude\n",
    "#Y-axis: Wind Speed (mph)\n",
    "x_axis = weather_df['latitude']\n",
    "y_axis = weather_df['wind_speed']\n",
    "\n",
    "x_min=x_axis.min()-10\n",
    "x_max=x_axis.max()+10\n",
    "\n",
    "y_min=y_axis.min()-10\n",
    "y_max=y_axis.max()+10\n",
    "\n",
    "plt.xlim(x_min,x_max)\n",
    "plt.ylim(y_min,y_max)\n",
    "\n",
    "# Define the labels\n",
    "plt.title(\"Wind Speed (mph) vs. Latitude\\n\\n\\n\")\n",
    "plt.xlabel(\"\\nLatitude\")\n",
    "plt.ylabel(\"Wind Speed (mph)\\n\")\n",
    "\n",
    "# Plot sctter diagram and save to .png\n",
    "plt.scatter(x_axis, y_axis, marker=\"o\", color=\"red\")\n",
    "plt.savefig('output_data/WindSpeed_Latitude.png')\n",
    "plt.show()"
   ]
  }
 ],
 "metadata": {
  "anaconda-cloud": {},
  "kernel_info": {
   "name": "python3"
  },
  "kernelspec": {
   "display_name": "Python 3",
   "language": "python",
   "name": "python3"
  },
  "language_info": {
   "codemirror_mode": {
    "name": "ipython",
    "version": 3
   },
   "file_extension": ".py",
   "mimetype": "text/x-python",
   "name": "python",
   "nbconvert_exporter": "python",
   "pygments_lexer": "ipython3",
   "version": "3.7.3"
  },
  "nteract": {
   "version": "0.12.3"
  }
 },
 "nbformat": 4,
 "nbformat_minor": 2
}
